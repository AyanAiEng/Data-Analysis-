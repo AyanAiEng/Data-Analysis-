{
 "cells": [
  {
   "cell_type": "code",
   "execution_count": 1,
   "id": "036c47f1-9d10-49c9-8a9f-5060ef110617",
   "metadata": {},
   "outputs": [],
   "source": [
    "import numpy as np\n",
    "import pandas as pd\n",
    "import matplotlib.pyplot as plt\n",
    "import seaborn as sns"
   ]
  },
  {
   "cell_type": "code",
   "execution_count": null,
   "id": "ad3ddeb0-1814-45c6-a1a0-fac007acae78",
   "metadata": {},
   "outputs": [],
   "source": []
  },
  {
   "cell_type": "code",
   "execution_count": 2,
   "id": "87398222-7d3e-455f-a907-d46d2e4a52f0",
   "metadata": {},
   "outputs": [
    {
     "data": {
      "text/html": [
       "<div>\n",
       "<style scoped>\n",
       "    .dataframe tbody tr th:only-of-type {\n",
       "        vertical-align: middle;\n",
       "    }\n",
       "\n",
       "    .dataframe tbody tr th {\n",
       "        vertical-align: top;\n",
       "    }\n",
       "\n",
       "    .dataframe thead th {\n",
       "        text-align: right;\n",
       "    }\n",
       "</style>\n",
       "<table border=\"1\" class=\"dataframe\">\n",
       "  <thead>\n",
       "    <tr style=\"text-align: right;\">\n",
       "      <th></th>\n",
       "      <th>PassengerId</th>\n",
       "      <th>Survived</th>\n",
       "      <th>Pclass</th>\n",
       "      <th>Name</th>\n",
       "      <th>Sex</th>\n",
       "      <th>Age</th>\n",
       "      <th>SibSp</th>\n",
       "      <th>Parch</th>\n",
       "      <th>Ticket</th>\n",
       "      <th>Fare</th>\n",
       "      <th>Cabin</th>\n",
       "      <th>Embarked</th>\n",
       "    </tr>\n",
       "  </thead>\n",
       "  <tbody>\n",
       "    <tr>\n",
       "      <th>0</th>\n",
       "      <td>1</td>\n",
       "      <td>0</td>\n",
       "      <td>3</td>\n",
       "      <td>Braund, Mr. Owen Harris</td>\n",
       "      <td>male</td>\n",
       "      <td>22.0</td>\n",
       "      <td>1</td>\n",
       "      <td>0</td>\n",
       "      <td>A/5 21171</td>\n",
       "      <td>7.2500</td>\n",
       "      <td>NaN</td>\n",
       "      <td>S</td>\n",
       "    </tr>\n",
       "    <tr>\n",
       "      <th>1</th>\n",
       "      <td>2</td>\n",
       "      <td>1</td>\n",
       "      <td>1</td>\n",
       "      <td>Cumings, Mrs. John Bradley (Florence Briggs Th...</td>\n",
       "      <td>female</td>\n",
       "      <td>38.0</td>\n",
       "      <td>1</td>\n",
       "      <td>0</td>\n",
       "      <td>PC 17599</td>\n",
       "      <td>71.2833</td>\n",
       "      <td>C85</td>\n",
       "      <td>C</td>\n",
       "    </tr>\n",
       "    <tr>\n",
       "      <th>2</th>\n",
       "      <td>3</td>\n",
       "      <td>1</td>\n",
       "      <td>3</td>\n",
       "      <td>Heikkinen, Miss. Laina</td>\n",
       "      <td>female</td>\n",
       "      <td>26.0</td>\n",
       "      <td>0</td>\n",
       "      <td>0</td>\n",
       "      <td>STON/O2. 3101282</td>\n",
       "      <td>7.9250</td>\n",
       "      <td>NaN</td>\n",
       "      <td>S</td>\n",
       "    </tr>\n",
       "    <tr>\n",
       "      <th>3</th>\n",
       "      <td>4</td>\n",
       "      <td>1</td>\n",
       "      <td>1</td>\n",
       "      <td>Futrelle, Mrs. Jacques Heath (Lily May Peel)</td>\n",
       "      <td>female</td>\n",
       "      <td>35.0</td>\n",
       "      <td>1</td>\n",
       "      <td>0</td>\n",
       "      <td>113803</td>\n",
       "      <td>53.1000</td>\n",
       "      <td>C123</td>\n",
       "      <td>S</td>\n",
       "    </tr>\n",
       "    <tr>\n",
       "      <th>4</th>\n",
       "      <td>5</td>\n",
       "      <td>0</td>\n",
       "      <td>3</td>\n",
       "      <td>Allen, Mr. William Henry</td>\n",
       "      <td>male</td>\n",
       "      <td>35.0</td>\n",
       "      <td>0</td>\n",
       "      <td>0</td>\n",
       "      <td>373450</td>\n",
       "      <td>8.0500</td>\n",
       "      <td>NaN</td>\n",
       "      <td>S</td>\n",
       "    </tr>\n",
       "    <tr>\n",
       "      <th>5</th>\n",
       "      <td>6</td>\n",
       "      <td>0</td>\n",
       "      <td>3</td>\n",
       "      <td>Moran, Mr. James</td>\n",
       "      <td>male</td>\n",
       "      <td>NaN</td>\n",
       "      <td>0</td>\n",
       "      <td>0</td>\n",
       "      <td>330877</td>\n",
       "      <td>8.4583</td>\n",
       "      <td>NaN</td>\n",
       "      <td>Q</td>\n",
       "    </tr>\n",
       "    <tr>\n",
       "      <th>6</th>\n",
       "      <td>7</td>\n",
       "      <td>0</td>\n",
       "      <td>1</td>\n",
       "      <td>McCarthy, Mr. Timothy J</td>\n",
       "      <td>male</td>\n",
       "      <td>54.0</td>\n",
       "      <td>0</td>\n",
       "      <td>0</td>\n",
       "      <td>17463</td>\n",
       "      <td>51.8625</td>\n",
       "      <td>E46</td>\n",
       "      <td>S</td>\n",
       "    </tr>\n",
       "    <tr>\n",
       "      <th>7</th>\n",
       "      <td>8</td>\n",
       "      <td>0</td>\n",
       "      <td>3</td>\n",
       "      <td>Palsson, Master. Gosta Leonard</td>\n",
       "      <td>male</td>\n",
       "      <td>2.0</td>\n",
       "      <td>3</td>\n",
       "      <td>1</td>\n",
       "      <td>349909</td>\n",
       "      <td>21.0750</td>\n",
       "      <td>NaN</td>\n",
       "      <td>S</td>\n",
       "    </tr>\n",
       "    <tr>\n",
       "      <th>8</th>\n",
       "      <td>9</td>\n",
       "      <td>1</td>\n",
       "      <td>3</td>\n",
       "      <td>Johnson, Mrs. Oscar W (Elisabeth Vilhelmina Berg)</td>\n",
       "      <td>female</td>\n",
       "      <td>27.0</td>\n",
       "      <td>0</td>\n",
       "      <td>2</td>\n",
       "      <td>347742</td>\n",
       "      <td>11.1333</td>\n",
       "      <td>NaN</td>\n",
       "      <td>S</td>\n",
       "    </tr>\n",
       "    <tr>\n",
       "      <th>9</th>\n",
       "      <td>10</td>\n",
       "      <td>1</td>\n",
       "      <td>2</td>\n",
       "      <td>Nasser, Mrs. Nicholas (Adele Achem)</td>\n",
       "      <td>female</td>\n",
       "      <td>14.0</td>\n",
       "      <td>1</td>\n",
       "      <td>0</td>\n",
       "      <td>237736</td>\n",
       "      <td>30.0708</td>\n",
       "      <td>NaN</td>\n",
       "      <td>C</td>\n",
       "    </tr>\n",
       "  </tbody>\n",
       "</table>\n",
       "</div>"
      ],
      "text/plain": [
       "   PassengerId  Survived  Pclass  \\\n",
       "0            1         0       3   \n",
       "1            2         1       1   \n",
       "2            3         1       3   \n",
       "3            4         1       1   \n",
       "4            5         0       3   \n",
       "5            6         0       3   \n",
       "6            7         0       1   \n",
       "7            8         0       3   \n",
       "8            9         1       3   \n",
       "9           10         1       2   \n",
       "\n",
       "                                                Name     Sex   Age  SibSp  \\\n",
       "0                            Braund, Mr. Owen Harris    male  22.0      1   \n",
       "1  Cumings, Mrs. John Bradley (Florence Briggs Th...  female  38.0      1   \n",
       "2                             Heikkinen, Miss. Laina  female  26.0      0   \n",
       "3       Futrelle, Mrs. Jacques Heath (Lily May Peel)  female  35.0      1   \n",
       "4                           Allen, Mr. William Henry    male  35.0      0   \n",
       "5                                   Moran, Mr. James    male   NaN      0   \n",
       "6                            McCarthy, Mr. Timothy J    male  54.0      0   \n",
       "7                     Palsson, Master. Gosta Leonard    male   2.0      3   \n",
       "8  Johnson, Mrs. Oscar W (Elisabeth Vilhelmina Berg)  female  27.0      0   \n",
       "9                Nasser, Mrs. Nicholas (Adele Achem)  female  14.0      1   \n",
       "\n",
       "   Parch            Ticket     Fare Cabin Embarked  \n",
       "0      0         A/5 21171   7.2500   NaN        S  \n",
       "1      0          PC 17599  71.2833   C85        C  \n",
       "2      0  STON/O2. 3101282   7.9250   NaN        S  \n",
       "3      0            113803  53.1000  C123        S  \n",
       "4      0            373450   8.0500   NaN        S  \n",
       "5      0            330877   8.4583   NaN        Q  \n",
       "6      0             17463  51.8625   E46        S  \n",
       "7      1            349909  21.0750   NaN        S  \n",
       "8      2            347742  11.1333   NaN        S  \n",
       "9      0            237736  30.0708   NaN        C  "
      ]
     },
     "execution_count": 2,
     "metadata": {},
     "output_type": "execute_result"
    }
   ],
   "source": [
    "titanic = pd.read_csv(\"Titanic-Dataset.csv\")\n",
    "titanic.head(10)"
   ]
  },
  {
   "cell_type": "code",
   "execution_count": 3,
   "id": "c74ad830-c329-49d7-9263-2014f80f278e",
   "metadata": {},
   "outputs": [],
   "source": [
    "total_lin_col = titanic.shape"
   ]
  },
  {
   "cell_type": "code",
   "execution_count": 4,
   "id": "6780ebc7-e2c2-443d-b033-70706b270b27",
   "metadata": {},
   "outputs": [
    {
     "name": "stdout",
     "output_type": "stream",
     "text": [
      "<class 'pandas.core.frame.DataFrame'>\n",
      "RangeIndex: 891 entries, 0 to 890\n",
      "Data columns (total 12 columns):\n",
      " #   Column       Non-Null Count  Dtype  \n",
      "---  ------       --------------  -----  \n",
      " 0   PassengerId  891 non-null    int64  \n",
      " 1   Survived     891 non-null    int64  \n",
      " 2   Pclass       891 non-null    int64  \n",
      " 3   Name         891 non-null    object \n",
      " 4   Sex          891 non-null    object \n",
      " 5   Age          714 non-null    float64\n",
      " 6   SibSp        891 non-null    int64  \n",
      " 7   Parch        891 non-null    int64  \n",
      " 8   Ticket       891 non-null    object \n",
      " 9   Fare         891 non-null    float64\n",
      " 10  Cabin        204 non-null    object \n",
      " 11  Embarked     889 non-null    object \n",
      "dtypes: float64(2), int64(5), object(5)\n",
      "memory usage: 83.7+ KB\n"
     ]
    }
   ],
   "source": [
    "null_values = titanic.info()"
   ]
  },
  {
   "cell_type": "markdown",
   "id": "2036a8db-70fb-4cc0-922c-c05cd4e1a8fb",
   "metadata": {},
   "source": [
    "# Use .describe() to view basic statistics (mean, min, max, etc.)."
   ]
  },
  {
   "cell_type": "code",
   "execution_count": 5,
   "id": "8168bdd8-5d6d-4a31-ac00-b4b566844438",
   "metadata": {},
   "outputs": [
    {
     "data": {
      "text/html": [
       "<div>\n",
       "<style scoped>\n",
       "    .dataframe tbody tr th:only-of-type {\n",
       "        vertical-align: middle;\n",
       "    }\n",
       "\n",
       "    .dataframe tbody tr th {\n",
       "        vertical-align: top;\n",
       "    }\n",
       "\n",
       "    .dataframe thead th {\n",
       "        text-align: right;\n",
       "    }\n",
       "</style>\n",
       "<table border=\"1\" class=\"dataframe\">\n",
       "  <thead>\n",
       "    <tr style=\"text-align: right;\">\n",
       "      <th></th>\n",
       "      <th>PassengerId</th>\n",
       "      <th>Survived</th>\n",
       "      <th>Pclass</th>\n",
       "      <th>Age</th>\n",
       "      <th>SibSp</th>\n",
       "      <th>Parch</th>\n",
       "      <th>Fare</th>\n",
       "    </tr>\n",
       "  </thead>\n",
       "  <tbody>\n",
       "    <tr>\n",
       "      <th>count</th>\n",
       "      <td>891.000000</td>\n",
       "      <td>891.000000</td>\n",
       "      <td>891.000000</td>\n",
       "      <td>714.000000</td>\n",
       "      <td>891.000000</td>\n",
       "      <td>891.000000</td>\n",
       "      <td>891.000000</td>\n",
       "    </tr>\n",
       "    <tr>\n",
       "      <th>mean</th>\n",
       "      <td>446.000000</td>\n",
       "      <td>0.383838</td>\n",
       "      <td>2.308642</td>\n",
       "      <td>29.699118</td>\n",
       "      <td>0.523008</td>\n",
       "      <td>0.381594</td>\n",
       "      <td>32.204208</td>\n",
       "    </tr>\n",
       "    <tr>\n",
       "      <th>std</th>\n",
       "      <td>257.353842</td>\n",
       "      <td>0.486592</td>\n",
       "      <td>0.836071</td>\n",
       "      <td>14.526497</td>\n",
       "      <td>1.102743</td>\n",
       "      <td>0.806057</td>\n",
       "      <td>49.693429</td>\n",
       "    </tr>\n",
       "    <tr>\n",
       "      <th>min</th>\n",
       "      <td>1.000000</td>\n",
       "      <td>0.000000</td>\n",
       "      <td>1.000000</td>\n",
       "      <td>0.420000</td>\n",
       "      <td>0.000000</td>\n",
       "      <td>0.000000</td>\n",
       "      <td>0.000000</td>\n",
       "    </tr>\n",
       "    <tr>\n",
       "      <th>25%</th>\n",
       "      <td>223.500000</td>\n",
       "      <td>0.000000</td>\n",
       "      <td>2.000000</td>\n",
       "      <td>20.125000</td>\n",
       "      <td>0.000000</td>\n",
       "      <td>0.000000</td>\n",
       "      <td>7.910400</td>\n",
       "    </tr>\n",
       "    <tr>\n",
       "      <th>50%</th>\n",
       "      <td>446.000000</td>\n",
       "      <td>0.000000</td>\n",
       "      <td>3.000000</td>\n",
       "      <td>28.000000</td>\n",
       "      <td>0.000000</td>\n",
       "      <td>0.000000</td>\n",
       "      <td>14.454200</td>\n",
       "    </tr>\n",
       "    <tr>\n",
       "      <th>75%</th>\n",
       "      <td>668.500000</td>\n",
       "      <td>1.000000</td>\n",
       "      <td>3.000000</td>\n",
       "      <td>38.000000</td>\n",
       "      <td>1.000000</td>\n",
       "      <td>0.000000</td>\n",
       "      <td>31.000000</td>\n",
       "    </tr>\n",
       "    <tr>\n",
       "      <th>max</th>\n",
       "      <td>891.000000</td>\n",
       "      <td>1.000000</td>\n",
       "      <td>3.000000</td>\n",
       "      <td>80.000000</td>\n",
       "      <td>8.000000</td>\n",
       "      <td>6.000000</td>\n",
       "      <td>512.329200</td>\n",
       "    </tr>\n",
       "  </tbody>\n",
       "</table>\n",
       "</div>"
      ],
      "text/plain": [
       "       PassengerId    Survived      Pclass         Age       SibSp  \\\n",
       "count   891.000000  891.000000  891.000000  714.000000  891.000000   \n",
       "mean    446.000000    0.383838    2.308642   29.699118    0.523008   \n",
       "std     257.353842    0.486592    0.836071   14.526497    1.102743   \n",
       "min       1.000000    0.000000    1.000000    0.420000    0.000000   \n",
       "25%     223.500000    0.000000    2.000000   20.125000    0.000000   \n",
       "50%     446.000000    0.000000    3.000000   28.000000    0.000000   \n",
       "75%     668.500000    1.000000    3.000000   38.000000    1.000000   \n",
       "max     891.000000    1.000000    3.000000   80.000000    8.000000   \n",
       "\n",
       "            Parch        Fare  \n",
       "count  891.000000  891.000000  \n",
       "mean     0.381594   32.204208  \n",
       "std      0.806057   49.693429  \n",
       "min      0.000000    0.000000  \n",
       "25%      0.000000    7.910400  \n",
       "50%      0.000000   14.454200  \n",
       "75%      0.000000   31.000000  \n",
       "max      6.000000  512.329200  "
      ]
     },
     "execution_count": 5,
     "metadata": {},
     "output_type": "execute_result"
    }
   ],
   "source": [
    "titanic.describe()"
   ]
  },
  {
   "cell_type": "markdown",
   "id": "a3b74ad8-02a8-4bbc-ace2-a6e560909198",
   "metadata": {},
   "source": [
    "#  Check for missing values with .isnull().sum()"
   ]
  },
  {
   "cell_type": "code",
   "execution_count": 6,
   "id": "28c551dd-6dbc-4916-9df0-e94e70a267aa",
   "metadata": {},
   "outputs": [
    {
     "data": {
      "text/plain": [
       "PassengerId      0\n",
       "Survived         0\n",
       "Pclass           0\n",
       "Name             0\n",
       "Sex              0\n",
       "Age            177\n",
       "SibSp            0\n",
       "Parch            0\n",
       "Ticket           0\n",
       "Fare             0\n",
       "Cabin          687\n",
       "Embarked         2\n",
       "dtype: int64"
      ]
     },
     "execution_count": 6,
     "metadata": {},
     "output_type": "execute_result"
    }
   ],
   "source": [
    "titanic.isnull().sum()"
   ]
  },
  {
   "cell_type": "markdown",
   "id": "8f72ac40-2308-4990-8004-8b2e297db654",
   "metadata": {},
   "source": [
    "# Replace missing Age values with the mean age (using Numpy)."
   ]
  },
  {
   "cell_type": "code",
   "execution_count": 7,
   "id": "a31f2882-8763-4770-8bdd-1c45e944e138",
   "metadata": {},
   "outputs": [
    {
     "name": "stdout",
     "output_type": "stream",
     "text": [
      "<class 'pandas.core.frame.DataFrame'>\n",
      "RangeIndex: 891 entries, 0 to 890\n",
      "Data columns (total 12 columns):\n",
      " #   Column       Non-Null Count  Dtype  \n",
      "---  ------       --------------  -----  \n",
      " 0   PassengerId  891 non-null    int64  \n",
      " 1   Survived     891 non-null    int64  \n",
      " 2   Pclass       891 non-null    int64  \n",
      " 3   Name         891 non-null    object \n",
      " 4   Sex          891 non-null    object \n",
      " 5   Age          891 non-null    float64\n",
      " 6   SibSp        891 non-null    int64  \n",
      " 7   Parch        891 non-null    int64  \n",
      " 8   Ticket       891 non-null    object \n",
      " 9   Fare         891 non-null    float64\n",
      " 10  Cabin        204 non-null    object \n",
      " 11  Embarked     889 non-null    object \n",
      "dtypes: float64(2), int64(5), object(5)\n",
      "memory usage: 83.7+ KB\n"
     ]
    }
   ],
   "source": [
    "average_age = titanic[\"Age\"].mean().astype(int)\n",
    "titanic[\"Age\"] = titanic[\"Age\"].fillna(average_age)\n",
    "titanic.info()"
   ]
  },
  {
   "cell_type": "markdown",
   "id": "cba3c98d-8e12-4849-b260-d6c296d73593",
   "metadata": {},
   "source": [
    "# Fill missing Embarked values with the most common port."
   ]
  },
  {
   "cell_type": "code",
   "execution_count": 8,
   "id": "8c046d76-5ced-4bd9-b2b2-f7cb0ff75096",
   "metadata": {},
   "outputs": [
    {
     "name": "stdout",
     "output_type": "stream",
     "text": [
      "<class 'pandas.core.frame.DataFrame'>\n",
      "RangeIndex: 891 entries, 0 to 890\n",
      "Data columns (total 12 columns):\n",
      " #   Column       Non-Null Count  Dtype  \n",
      "---  ------       --------------  -----  \n",
      " 0   PassengerId  891 non-null    int64  \n",
      " 1   Survived     891 non-null    int64  \n",
      " 2   Pclass       891 non-null    int64  \n",
      " 3   Name         891 non-null    object \n",
      " 4   Sex          891 non-null    object \n",
      " 5   Age          891 non-null    float64\n",
      " 6   SibSp        891 non-null    int64  \n",
      " 7   Parch        891 non-null    int64  \n",
      " 8   Ticket       891 non-null    object \n",
      " 9   Fare         891 non-null    float64\n",
      " 10  Cabin        204 non-null    object \n",
      " 11  Embarked     891 non-null    object \n",
      "dtypes: float64(2), int64(5), object(5)\n",
      "memory usage: 83.7+ KB\n"
     ]
    }
   ],
   "source": [
    "most_common_port = titanic['Embarked'].value_counts().index[0]\n",
    "titanic[\"Embarked\"] = titanic[\"Embarked\"].fillna(most_common_port)\n",
    "titanic.info()"
   ]
  },
  {
   "cell_type": "markdown",
   "id": "6f04785f-c0b4-47a5-9fb1-c300ff880bbc",
   "metadata": {},
   "source": [
    "# How many passengers were onboard?"
   ]
  },
  {
   "cell_type": "code",
   "execution_count": 9,
   "id": "3c5aeace-875a-40d8-8a31-138791c3db8a",
   "metadata": {},
   "outputs": [
    {
     "name": "stdout",
     "output_type": "stream",
     "text": [
      "The on board passenger are 891\n"
     ]
    }
   ],
   "source": [
    "passengers = titanic['Embarked'].value_counts().sum()\n",
    "print(f\"The on board passenger are {passengers}\")"
   ]
  },
  {
   "cell_type": "markdown",
   "id": "56647cf0-ca90-4c53-87b0-a6127f115a7d",
   "metadata": {},
   "source": [
    "# What is the average Age?"
   ]
  },
  {
   "cell_type": "code",
   "execution_count": 10,
   "id": "4392d78c-a806-4ab0-b324-d33132cd6346",
   "metadata": {},
   "outputs": [
    {
     "name": "stdout",
     "output_type": "stream",
     "text": [
      "The average age is 29\n"
     ]
    }
   ],
   "source": [
    "print(f\"The average age is {average_age}\")"
   ]
  },
  {
   "cell_type": "markdown",
   "id": "d138f2b7-1a1a-4806-b9d6-65e1e87b1f72",
   "metadata": {},
   "source": [
    "# What is the average Fare?"
   ]
  },
  {
   "cell_type": "code",
   "execution_count": 11,
   "id": "3d2650dd-341b-451e-8f1b-11c9831eb2e2",
   "metadata": {},
   "outputs": [
    {
     "name": "stdout",
     "output_type": "stream",
     "text": [
      "The Fare is 32\n"
     ]
    }
   ],
   "source": [
    "avg_fare = titanic['Fare'].mean().astype(int)\n",
    "print(f\"The Fare is {avg_fare}\")"
   ]
  },
  {
   "cell_type": "markdown",
   "id": "c9ae92f9-567e-4a9e-b057-96298922c3d1",
   "metadata": {},
   "source": [
    "# How many males and females were there?"
   ]
  },
  {
   "cell_type": "code",
   "execution_count": 12,
   "id": "7b536afe-a78d-463b-833f-d482fe815cfc",
   "metadata": {},
   "outputs": [
    {
     "name": "stdout",
     "output_type": "stream",
     "text": [
      "There were 577 male and 314 female\n"
     ]
    }
   ],
   "source": [
    "male_female = titanic['Sex'].value_counts()\n",
    "print(f\"There were {male_female.values[0]} {male_female.index[0]} and {male_female.values[1]} {male_female.index[1]}\")"
   ]
  },
  {
   "cell_type": "markdown",
   "id": "ccae03b3-22a8-4525-ba6f-c74b3a54ce15",
   "metadata": {},
   "source": [
    "# How many survived vs. did not survive?"
   ]
  },
  {
   "cell_type": "code",
   "execution_count": 13,
   "id": "1b3e63c2-ebc2-48b2-97e3-e085225a6327",
   "metadata": {},
   "outputs": [
    {
     "name": "stdout",
     "output_type": "stream",
     "text": [
      "549 died and 342 survived\n"
     ]
    }
   ],
   "source": [
    "surv_not_surv = titanic['Survived'].value_counts()\n",
    "print(f\"{surv_not_surv.values[0]} died and {surv_not_surv.values[1]} survived\")"
   ]
  },
  {
   "cell_type": "markdown",
   "id": "94e90795-e578-4a03-85fb-207d53eeb4bb",
   "metadata": {},
   "source": [
    "# What percentage of passengers survived?"
   ]
  },
  {
   "cell_type": "code",
   "execution_count": 14,
   "id": "e2bed971-5ab7-453d-898b-202e192959a8",
   "metadata": {},
   "outputs": [
    {
     "name": "stdout",
     "output_type": "stream",
     "text": [
      "38% passengers survived\n"
     ]
    }
   ],
   "source": [
    "per_of_sur = f\"{((surv_not_surv.values[1] / passengers) * 100).astype(int)}%\"\n",
    "print(f\"{per_of_sur} passengers survived\")"
   ]
  },
  {
   "cell_type": "markdown",
   "id": "4c6ca0f6-48b1-4a9a-ac12-33793e95c6b1",
   "metadata": {},
   "source": [
    "# Find survival rates for 1st, 2nd, and 3rd class."
   ]
  },
  {
   "cell_type": "code",
   "execution_count": 15,
   "id": "9c4470df-296b-4fb1-96ed-79a0141e9e02",
   "metadata": {},
   "outputs": [
    {
     "data": {
      "text/plain": [
       "Pclass\n",
       "1    63%\n",
       "2    47%\n",
       "3    24%\n",
       "Name: Survived, dtype: object"
      ]
     },
     "execution_count": 15,
     "metadata": {},
     "output_type": "execute_result"
    }
   ],
   "source": [
    "Survival_by_Class  = ((titanic.groupby(\"Pclass\")[\"Survived\"].mean().round(2)) * 100).astype(int)\n",
    "Survival_by_Class = Survival_by_Class.astype(str) + '%'\n",
    "Survival_by_Class\n",
    "\n"
   ]
  },
  {
   "cell_type": "markdown",
   "id": "51791a08-d708-4ee7-9e10-e62f41661efd",
   "metadata": {},
   "source": [
    "# Which class had the highest chance of survival?"
   ]
  },
  {
   "cell_type": "code",
   "execution_count": 16,
   "id": "18be6312-75da-4c5f-9be2-885505f42563",
   "metadata": {},
   "outputs": [
    {
     "name": "stdout",
     "output_type": "stream",
     "text": [
      "1 class has the highest chance of survival 63%\n"
     ]
    }
   ],
   "source": [
    "print(f\"{Survival_by_Class.index[0]} class has the highest chance of survival {Survival_by_Class.values[0]}\")"
   ]
  },
  {
   "cell_type": "markdown",
   "id": "c63eda65-4160-4ea4-865d-881abdee586b",
   "metadata": {},
   "source": [
    "# Divide passengers into age groups:Compare probabilities across Pclass."
   ]
  },
  {
   "cell_type": "code",
   "execution_count": 17,
   "id": "c9baf154-6e87-4b8a-b659-4b8c38e14a6a",
   "metadata": {},
   "outputs": [
    {
     "name": "stderr",
     "output_type": "stream",
     "text": [
      "C:\\Users\\Admin\\AppData\\Local\\Temp\\ipykernel_15192\\2772943415.py:5: FutureWarning: The default of observed=False is deprecated and will be changed to True in a future version of pandas. Pass observed=False to retain current behavior or observed=True to adopt the future default and silence this warning.\n",
      "  surv_rate_by_age = titanic.groupby(age_groups)[\"Survived\"].mean().mul(100).round(1).astype(str) + \"%\"\n"
     ]
    },
    {
     "data": {
      "text/plain": [
       "Age\n",
       "Child     58.0%\n",
       "Teen      41.1%\n",
       "Adult     36.0%\n",
       "Senior    36.7%\n",
       "Name: Survived, dtype: object"
      ]
     },
     "execution_count": 17,
     "metadata": {},
     "output_type": "execute_result"
    }
   ],
   "source": [
    "bins = [0,12,19,40,100]\n",
    "labels = [\"Child\",\"Teen\",\"Adult\",\"Senior\"]\n",
    "\n",
    "age_groups = pd.cut(titanic[\"Age\"],bins = bins,labels = labels,right=True)\n",
    "surv_rate_by_age = titanic.groupby(age_groups)[\"Survived\"].mean().mul(100).round(1).astype(str) + \"%\"\n",
    "surv_rate_by_age"
   ]
  },
  {
   "cell_type": "markdown",
   "id": "c4ccb744-60db-4d7d-8f89-c03f50773bac",
   "metadata": {},
   "source": [
    "# Bar chart: Number of survivors (0 vs 1)."
   ]
  },
  {
   "cell_type": "code",
   "execution_count": 18,
   "id": "81273c05-4595-4ff9-ae0c-50b3e042fecd",
   "metadata": {},
   "outputs": [
    {
     "data": {
      "image/png": "[encoded data removed]",
      "text/plain": [
       "<Figure size 700x500 with 1 Axes>"
      ]
     },
     "metadata": {},
     "output_type": "display_data"
    }
   ],
   "source": [
    "surv_not_surv\n",
    "plt.figure(figsize=(7,5))\n",
    "surv_not_surv.plot(kind=\"bar\")\n",
    "plt.title(\"Survived VS Not Survived\",fontsize = 20,fontweight = \"bold\")\n",
    "plt.xlabel(\"Survival\",fontsize = 15,fontweight = \"bold\")\n",
    "plt.ylabel(\"Counts\",fontsize = 15,fontweight = \"bold\")\n",
    "plt.xticks(rotation = 0)\n",
    "plt.tight_layout()\n",
    "plt.savefig(\"Survival_barplot.png\")\n",
    "plt.show()\n"
   ]
  },
  {
   "cell_type": "markdown",
   "id": "ebf5519a-0f47-4ce8-9321-31445c5a40d4",
   "metadata": {},
   "source": [
    "# Histogram: Distribution of passenger ages (bins = 20)."
   ]
  },
  {
   "cell_type": "code",
   "execution_count": 19,
   "id": "ff625507-6cd6-4c54-b9d2-ea7ef5201567",
   "metadata": {},
   "outputs": [
    {
     "data": {
      "image/png": "[encoded data removed]",
      "text/plain": [
       "<Figure size 1000x600 with 1 Axes>"
      ]
     },
     "metadata": {},
     "output_type": "display_data"
    },
    {
     "data": {
      "text/plain": [
       "np.float64(29.6)"
      ]
     },
     "execution_count": 19,
     "metadata": {},
     "output_type": "execute_result"
    }
   ],
   "source": [
    "mean_age = titanic[\"Age\"].mean().round(1)\n",
    "plt.figure(figsize = (10,6))\n",
    "plt.hist(titanic[\"Age\"],bins = 20,edgecolor = \"black\")\n",
    "plt.title(\"Distribution of passenger ages (bins = 20)\",fontsize = 14,fontweight = \"bold\")\n",
    "plt.xlabel(\"Age\",fontsize = 12)\n",
    "plt.ylabel(\"Count\",fontsize = 12)\n",
    "plt.axvline(mean_age,color = \"red\",linestyle = \"dashed\",linewidth = 2,label = f\"Mean Age{mean_age}\")\n",
    "plt.legend()\n",
    "plt.grid(axis = \"y\")\n",
    "plt.tight_layout\n",
    "plt.savefig(\"Distribution of passenger ages.png\")\n",
    "plt.show()\n",
    "mean_age"
   ]
  },
  {
   "cell_type": "markdown",
   "id": "8b1ff4f4-e4ae-4fd8-a191-a600fb70f597",
   "metadata": {},
   "source": [
    "# Pie chart: Gender distribution."
   ]
  },
  {
   "cell_type": "code",
   "execution_count": 20,
   "id": "38644ed5-e28b-4254-be8b-1752b3a0abf6",
   "metadata": {},
   "outputs": [
    {
     "data": {
      "image/png": "[encoded data removed]",
      "text/plain": [
       "<Figure size 640x480 with 1 Axes>"
      ]
     },
     "metadata": {},
     "output_type": "display_data"
    }
   ],
   "source": [
    "label = male_female.index\n",
    "slices = male_female.values \n",
    "plt.pie(slices,\n",
    "        labels = label,\n",
    "        autopct = '%1.1f%%',\n",
    "        colors = ['red','blue'],\n",
    "        shadow = True\n",
    "       )\n",
    "plt.legend()\n",
    "plt.title(\"Gender distribution\",fontsize = 14,fontweight = \"bold\")\n",
    "plt.savefig(\"Gender distribution.png\")\n",
    "plt.show()"
   ]
  },
  {
   "cell_type": "markdown",
   "id": "827a23df-823b-4c96-bc9f-77fb029abdb8",
   "metadata": {},
   "source": [
    "# Countplot: Survived by Sex (Who survived more?)."
   ]
  },
  {
   "cell_type": "code",
   "execution_count": 21,
   "id": "0c99cd8d-0502-469e-a487-81c8518d39b2",
   "metadata": {},
   "outputs": [
    {
     "data": {
      "image/png": "[encoded data removed]",
      "text/plain": [
       "<Figure size 640x480 with 1 Axes>"
      ]
     },
     "metadata": {},
     "output_type": "display_data"
    }
   ],
   "source": [
    "# plt.figure(figsize = (10,6))\n",
    "sns.countplot(data = titanic,\n",
    "              x=\"Survived\",\n",
    "              hue = \"Sex\",\n",
    "              edgecolor = \"black\")\n",
    "plt.title(\"Survived by Gender\",fontsize = 14,fontweight = \"bold\")\n",
    "plt.xlabel(\"Survived\",fontsize = 12)\n",
    "plt.ylabel(\"Count\",fontsize = 12)\n",
    "plt.grid(axis = \"y\")\n",
    "plt.tight_layout()\n",
    "plt.savefig(\"Survived by Gender.png\")\n",
    "plt.show()"
   ]
  },
  {
   "cell_type": "markdown",
   "id": "c5fa7dc0-23e6-460b-8b4d-9c4be99889c8",
   "metadata": {},
   "source": [
    "# Boxplot: Fare by Pclass (Which class paid more?)."
   ]
  },
  {
   "cell_type": "code",
   "execution_count": 22,
   "id": "554014d6-8836-487b-a532-45b7c8aa03af",
   "metadata": {},
   "outputs": [
    {
     "data": {
      "image/png": "[encoded data removed]",
      "text/plain": [
       "<Figure size 640x480 with 1 Axes>"
      ]
     },
     "metadata": {},
     "output_type": "display_data"
    }
   ],
   "source": [
    "sns.boxplot(data = titanic,\n",
    "            y = \"Fare\",\n",
    "            x = \"Pclass\",\n",
    "           )\n",
    "plt.savefig(\"Fare by Pclass.png\")"
   ]
  },
  {
   "cell_type": "markdown",
   "id": "56972ea8-fca5-4376-972d-3d40957fb560",
   "metadata": {},
   "source": [
    "# Violinplot: Age by Survived (Age distribution among survivors)."
   ]
  },
  {
   "cell_type": "code",
   "execution_count": 23,
   "id": "65894599-27f0-4c3b-ba8e-dcd8a993587d",
   "metadata": {},
   "outputs": [
    {
     "data": {
      "image/png": "[encoded data removed]",
      "text/plain": [
       "<Figure size 640x480 with 1 Axes>"
      ]
     },
     "metadata": {},
     "output_type": "display_data"
    }
   ],
   "source": [
    "sns.violinplot(data = titanic,\n",
    "               y = \"Age\",\n",
    "               x=\"Survived\",\n",
    "               \n",
    "               inner=\"point\",\n",
    "               # palette = \"Set2\"\n",
    "              )\n",
    "\n",
    "plt.title(\"Age distribution among survivors\",fontsize = 14,fontweight = \"bold\")\n",
    "plt.xlabel(\"Survived\",fontsize = 12)\n",
    "plt.ylabel(\"Age\",fontsize = 12)\n",
    "# plt.legend(title = \"Sex\")\n",
    "plt.tight_layout()\n",
    "plt.savefig(\"Age by Survived.png\")\n",
    "plt.show()"
   ]
  },
  {
   "cell_type": "markdown",
   "id": "0c57e1cb-113f-4e98-99b9-ef74465478fd",
   "metadata": {},
   "source": [
    "# Heatmap: Correlation between numerical columns (Age, Fare, Pclass, Survived)."
   ]
  },
  {
   "cell_type": "code",
   "execution_count": 24,
   "id": "ce6d88a9-1c2d-402a-a675-f0d804d68efa",
   "metadata": {},
   "outputs": [
    {
     "data": {
      "image/png": "[encoded data removed]",
      "text/plain": [
       "<Figure size 700x500 with 2 Axes>"
      ]
     },
     "metadata": {},
     "output_type": "display_data"
    }
   ],
   "source": [
    "num_col = [\"Age\", \"Fare\", \"Pclass\", \"Survived\"]\n",
    "corr = titanic[num_col].corr()\n",
    "plt.figure(figsize = (7,5))\n",
    "sns.heatmap(\n",
    "    corr,\n",
    "    annot = True,\n",
    "    cmap = \"coolwarm\",\n",
    "    fmt = \".2f\"\n",
    "           )\n",
    "plt.title(\"Correlation Heatmap (Titanic)\",fontsize = 16,fontweight = \"bold\")\n",
    "plt.tight_layout()\n",
    "plt.savefig(\"heatmap.png\")\n",
    "plt.show()"
   ]
  },
  {
   "cell_type": "markdown",
   "id": "9fa90a2b-7570-4d31-a972-91647a1d0f2e",
   "metadata": {},
   "source": [
    "# Probability a passenger survived:"
   ]
  },
  {
   "cell_type": "code",
   "execution_count": 25,
   "id": "019e407e-e714-4d27-8772-79bc941c61ab",
   "metadata": {},
   "outputs": [
    {
     "data": {
      "text/plain": [
       "np.float64(0.3838383838383838)"
      ]
     },
     "execution_count": 25,
     "metadata": {},
     "output_type": "execute_result"
    }
   ],
   "source": [
    "passengers\n",
    "survived = titanic[\"Survived\"].sum()\n",
    "survived\n",
    "prob_survived = survived / passengers\n",
    "prob_survived"
   ]
  },
  {
   "cell_type": "markdown",
   "id": "c1a29bff-76ec-45ad-a079-dbd50e493d27",
   "metadata": {},
   "source": [
    "# Probability a female survived:"
   ]
  },
  {
   "cell_type": "code",
   "execution_count": 26,
   "id": "b799fde5-758f-4b47-b393-8d2bb3e0bc42",
   "metadata": {},
   "outputs": [
    {
     "data": {
      "text/plain": [
       "0.7420382165605095"
      ]
     },
     "execution_count": 26,
     "metadata": {},
     "output_type": "execute_result"
    }
   ],
   "source": [
    "total_female = len(titanic[titanic[\"Sex\"] == \"female\"])\n",
    "survived_females = titanic[(titanic[\"Sex\"] == \"female\") & (titanic[\"Survived\"] == 1)].shape[0]\n",
    "prob_female_survived = survived_females/total_female\n",
    "prob_female_survived"
   ]
  },
  {
   "cell_type": "markdown",
   "id": "a319e458-1efa-4aa4-a991-71574726ca27",
   "metadata": {},
   "source": [
    "# Probability a male survived:"
   ]
  },
  {
   "cell_type": "code",
   "execution_count": 27,
   "id": "2816f51f-84a6-412f-b4cb-48b79fb109f3",
   "metadata": {},
   "outputs": [
    {
     "data": {
      "text/plain": [
       "0.18890814558058924"
      ]
     },
     "execution_count": 27,
     "metadata": {},
     "output_type": "execute_result"
    }
   ],
   "source": [
    "total_male = len(titanic[titanic[\"Sex\"] == \"male\"])\n",
    "survived_males = titanic[(titanic[\"Sex\"] == \"male\") & (titanic[\"Survived\"] == 1)].shape[0]\n",
    "prob_male_survived = survived_males/total_male\n",
    "prob_male_survived"
   ]
  },
  {
   "cell_type": "markdown",
   "id": "d5127f25-1c69-4c6f-b38d-724fbce458da",
   "metadata": {},
   "source": [
    "# Compare probabilities across Pclass."
   ]
  },
  {
   "cell_type": "code",
   "execution_count": 28,
   "id": "b846b242-f280-48d5-b63f-b1de6bd5bf08",
   "metadata": {},
   "outputs": [
    {
     "data": {
      "text/plain": [
       "Pclass  Sex   \n",
       "1       female    0.968085\n",
       "        male      0.368852\n",
       "2       female    0.921053\n",
       "        male      0.157407\n",
       "3       female    0.500000\n",
       "        male      0.135447\n",
       "Name: Survived, dtype: float64"
      ]
     },
     "execution_count": 28,
     "metadata": {},
     "output_type": "execute_result"
    }
   ],
   "source": [
    "prob_by_class_gender = titanic.groupby([\"Pclass\",\"Sex\"])[\"Survived\"].mean()\n",
    "prob_by_class_gender"
   ]
  },
  {
   "cell_type": "code",
   "execution_count": 29,
   "id": "27861e40-8f2e-423e-a9ef-95a4a9c9d077",
   "metadata": {},
   "outputs": [
    {
     "data": {
      "text/plain": [
       "Survived\n",
       "0    549\n",
       "1    342\n",
       "Name: count, dtype: int64"
      ]
     },
     "execution_count": 29,
     "metadata": {},
     "output_type": "execute_result"
    }
   ],
   "source": [
    "surv_not_surv"
   ]
  },
  {
   "cell_type": "code",
   "execution_count": 30,
   "id": "9d576f73-40f2-4bcf-94f2-f0d1de03420c",
   "metadata": {},
   "outputs": [
    {
     "data": {
      "image/png": "[encoded data removed]",
      "text/plain": [
       "<Figure size 600x400 with 1 Axes>"
      ]
     },
     "metadata": {},
     "output_type": "display_data"
    }
   ],
   "source": [
    "Survival_by_Class = titanic.groupby(\"Pclass\")[\"Survived\"].mean().round(2) * 100\n",
    "Survival_by_Class = Survival_by_Class.rename(index=lambda x: f\"Class {x}\")\n",
    "\n",
    "\n",
    "# Create bar chart\n",
    "plt.figure(figsize=(6,4))\n",
    "plt.bar(Survival_by_Class.index.astype(str), Survival_by_Class.values)\n",
    "plt.xlabel(\"Passenger Class\")\n",
    "plt.ylabel(\"Survival Rate (%)\")\n",
    "plt.title(\"Survival Rate by Passenger Class\")\n",
    "plt.savefig(\"Survival Rate by Passenger Class.png\")\n",
    "plt.show()"
   ]
  },
  {
   "cell_type": "code",
   "execution_count": 43,
   "id": "2ec8edc7-57e8-4cc0-b355-ce0492a74f70",
   "metadata": {},
   "outputs": [
    {
     "data": {
      "image/png": "[encoded data removed]",
      "text/plain": [
       "<Figure size 640x480 with 1 Axes>"
      ]
     },
     "metadata": {},
     "output_type": "display_data"
    }
   ],
   "source": [
    "sns.boxplot(data = titanic,\n",
    "            x = \"Survived\",\n",
    "            y = \"Fare\")\n",
    "\n",
    "plt.title(\"Survival According To Fare\",fontsize = 16,fontweight = \"bold\")\n",
    "plt.xlabel(\"Survival (0 = No,1 = Yes)\",fontsize = 12)\n",
    "plt.ylabel(\"Fare\",fontsize = 12)\n",
    "plt.tight_layout()\n",
    "plt.savefig(\"Fare VS Survival\")\n",
    "plt.show()"
   ]
  },
  {
   "cell_type": "code",
   "execution_count": null,
   "id": "abf92483-f929-4df8-baae-09798c5595c6",
   "metadata": {},
   "outputs": [],
   "source": []
  }
 ],
 "metadata": {
  "kernelspec": {
   "display_name": "Python 3 (ipykernel)",
   "language": "python",
   "name": "python3"
  },
  "language_info": {
   "codemirror_mode": {
    "name": "ipython",
    "version": 3
   },
   "file_extension": ".py",
   "mimetype": "text/x-python",
   "name": "python",
   "nbconvert_exporter": "python",
   "pygments_lexer": "ipython3",
   "version": "3.13.2"
  }
 },
 "nbformat": 4,
 "nbformat_minor": 5
}
